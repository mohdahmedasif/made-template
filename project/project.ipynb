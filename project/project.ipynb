{
 "cells": [
  {
   "cell_type": "markdown",
   "id": "e4fb5739-2d78-4f97-8622-494d9fc795ee",
   "metadata": {},
   "source": [
    "# Quantifying Market Sentiment and Its Impact on Stock Prices\r\n",
    "\r\n",
    "## Introduction\r\n",
    "\r\n",
    "This study was undertaken to explore the relationship between sentiments expressed on social media and news and their influence on stock prices. The primary research question driving this investigation was: To what extent do sentiments expressed on social media and news impact stock prices? The overarching goal was to provide valuable insights for investors and traders by understanding the dynamics between market sentiments and stock price movements.\r\n",
    "\r\n",
    "## Data Sources and Explanation\r\n",
    "\r\n",
    "### Stock Price Data\r\n",
    "\r\n",
    "We sourced daily price data for global stock exchanges, including indexes from the United States, China, Canada, Germany, Japan, and more. This data was obtained from Kaggle, and it encompasses several decades of historical data from Yahoo Finance.\r\n",
    "\r\n",
    "- **Metadata URL:** [Stock Exchange Data on Kaggle](https://www.kaggle.com/datasets/mattiuzc/stock-exchange-data/data)\r\n",
    "- **Data URL:** [Stock Exchange Data on Kaggle](https://www.kaggle.com/datasets/mattiuzc/stock-exchange-data?select=indexData.csv)\r\n",
    "- **Data Type:** CSV\r\n",
    "\r\n",
    "### News Data\r\n",
    "\r\n",
    "Two datasets from Kaggle were utilized for news sentiment analysis. The first dataset contains news headlines published over nineteen years by the Australian Broadcasting Corporation (ABC). The second dataset collects RSS feeds from BBC News using a self-updating mechanism.\r\n",
    "\r\n",
    "- **ABC News Data:**\r\n",
    "  - **Metadata URL:** [ABC News Headlines on Kaggle](https://www.kaggle.com/datasets/therohk/million-headlines)\r\n",
    "  - **Data URL:** [ABC News Headlines on Kaggle](https://www.kaggle.com/datasets/therohk/million-headlines?select=abcnews-date-text.csv)\r\n",
    "  - **Data Type:** CSV\r\n",
    "\r\n",
    "- **BBC News Data:**\r\n",
    "  - **Metadata URL:** [BBC News on Kaggle](https://www.kaggle.com/datasets/gpreda/bbc-news)\r\n",
    "  - **Data URL:** [BBC News on Kaggle](https://www.kaggle.com/datasets/gpreda/bbc-news?select=bbc_news.csv)\r\n",
    "  - **Data Type:** CSV\r\n",
    "\r\n",
    "## Methodology\r\n",
    "\r\n",
    "We collected and preprocessed data from three main sources: stock price data, social media posts, and news articles. The aim was to prepare the data for further analysis and integration. Sentiment analysis was performed on social media data and news articles using natural language processing techniques. This involved assessing the sentiment expressed in each text data point, classifying it as positive, negative, or neutral. The sentiment data derived from social media and news were integrated with the stock price data. This step aimed to establish correlations between sentiments and stock price movements. Statistical analysis and modeling techniques were applied to quantify the impact of socind applicability in real-world trading scenarios. in real-world trading scenarios."
   ]
  },
  {
   "cell_type": "markdown",
   "id": "613b027a-d5d5-4b25-ac22-4cd7677cf326",
   "metadata": {},
   "source": [
    "## Install Dependencies\r\n",
    "\r\n",
    "Begin by installing all the necessary dependencies as specified in the project's requirements file located in the project folder.\r\n",
    "\r\n",
    "```bash\r\n",
    "pip install -r requirements.txt\r\n",
    "r.s.s.s."
   ]
  },
  {
   "cell_type": "code",
   "execution_count": 4,
   "id": "395a4239-2ccb-4e48-9e80-a493ec748672",
   "metadata": {},
   "outputs": [
    {
     "name": "stderr",
     "output_type": "stream",
     "text": [
      "UsageError: Line magic function `%` not found.\n"
     ]
    }
   ],
   "source": []
  },
  {
   "cell_type": "code",
   "execution_count": null,
   "id": "bfe91dad-c5e2-4c87-8df9-f89a118a3337",
   "metadata": {},
   "outputs": [],
   "source": []
  },
  {
   "cell_type": "markdown",
   "id": "3b25e196-bdba-422b-9781-08953d1d8d34",
   "metadata": {},
   "source": [
    "## Questions\r\n",
    "\r\n",
    "1. To what extent do sentiments expressed on social media and news impact stock prices?\r\n",
    "2. How does the impact of sentiments vary across different stocks and sectors?\r\n",
    "3. Are there discernible temporal patterns in the relationship between sentiments and stock price movements?\r\n",
    "\r\n",
    "\r\n",
    "## Conclusion\r\n",
    "\r\n",
    "In conclusion, this study sheds light on the relationship between social media and news sentiments and stock prices. The findings suggest that sentiments expressed in these domains can impact stock movements, providing valuable insights for market participants. Further research and refinement of models are recommended to enhance predictive accuracy and applicability in real-world trading senarios.\r\n"
   ]
  },
  {
   "cell_type": "code",
   "execution_count": null,
   "id": "35a98462-8dbc-49fe-b8db-121f7898f2af",
   "metadata": {},
   "outputs": [],
   "source": []
  }
 ],
 "metadata": {
  "kernelspec": {
   "display_name": "Python 3 (ipykernel)",
   "language": "python",
   "name": "python3"
  },
  "language_info": {
   "codemirror_mode": {
    "name": "ipython",
    "version": 3
   },
   "file_extension": ".py",
   "mimetype": "text/x-python",
   "name": "python",
   "nbconvert_exporter": "python",
   "pygments_lexer": "ipython3",
   "version": "3.10.12"
  }
 },
 "nbformat": 4,
 "nbformat_minor": 5
}
